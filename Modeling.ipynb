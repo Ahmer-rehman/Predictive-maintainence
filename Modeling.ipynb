{
  "nbformat": 4,
  "nbformat_minor": 0,
  "metadata": {
    "accelerator": "GPU",
    "colab": {
      "name": "SCADA_2.ipynb",
      "provenance": [],
      "collapsed_sections": []
    },
    "kernelspec": {
      "display_name": "Python 3",
      "name": "python3"
    },
    "language_info": {
      "name": "python"
    }
  },
  "cells": [
    {
      "cell_type": "code",
      "metadata": {
        "id": "Sj5wjAflZDG4"
      },
      "source": [
        "import pandas as pd\n",
        "pd.set_option('display.max_rows', 1000)\n",
        "pd.set_option('display.max_columns', 500)\n",
        "pd.set_option('display.width', 1000)\n",
        "pd.set_option('max_colwidth', 800)\n",
        "from collections import Counter\n",
        "import numpy as np"
      ],
      "execution_count": 1,
      "outputs": []
    },
    {
      "cell_type": "code",
      "metadata": {
        "id": "2MuHS3dmZXPm"
      },
      "source": [
        "df = pd.read_csv('SCADA_data.csv')\n",
        "df['Inverter avg. temp'] = df[['CS101 : Sys 1 inverter 1 cabinet temp.',\n",
        "                          'CS101 : Sys 1 inverter 2 cabinet temp.', \n",
        "                          'CS101 : Sys 1 inverter 3 cabinet temp.', \n",
        "                          'CS101 : Sys 1 inverter 4 cabinet temp.', \n",
        "                          'CS101 : Sys 1 inverter 5 cabinet temp.', \n",
        "                          'CS101 : Sys 1 inverter 6 cabinet temp.', \n",
        "                          'CS101 : Sys 1 inverter 7 cabinet temp.',\n",
        "                          'CS101 : Sys 2 inverter 1 cabinet temp.', \n",
        "                          'CS101 : Sys 2 inverter 2 cabinet temp.',  \n",
        "                          'CS101 : Sys 2 inverter 3 cabinet temp.',\n",
        "                          'CS101 : Sys 2 inverter 4 cabinet temp.']].mean(axis=1)\n",
        "df['Inverter std. temp'] = df[['CS101 : Sys 1 inverter 1 cabinet temp.',\n",
        "                         'CS101 : Sys 1 inverter 2 cabinet temp.', \n",
        "                         'CS101 : Sys 1 inverter 3 cabinet temp.', \n",
        "                         'CS101 : Sys 1 inverter 4 cabinet temp.', \n",
        "                         'CS101 : Sys 1 inverter 5 cabinet temp.', \n",
        "                         'CS101 : Sys 1 inverter 6 cabinet temp.', \n",
        "                         'CS101 : Sys 1 inverter 7 cabinet temp.',\n",
        "                         'CS101 : Sys 2 inverter 1 cabinet temp.', \n",
        "                         'CS101 : Sys 2 inverter 2 cabinet temp.',  \n",
        "                         'CS101 : Sys 2 inverter 3 cabinet temp.',\n",
        "                         'CS101 : Sys 2 inverter 4 cabinet temp.']].std(axis=1)"
      ],
      "execution_count": 2,
      "outputs": []
    },
    {
      "cell_type": "code",
      "metadata": {
        "id": "FFdZWqjcZYaW"
      },
      "source": [
        "df['Time'] = pd.to_datetime(df['Time'], dayfirst=True, errors='coerce')\n",
        "df.sort_values(by='Time', axis=0, inplace=True)\n",
        "df.reset_index(drop=True, inplace=True)"
      ],
      "execution_count": 3,
      "outputs": []
    },
    {
      "cell_type": "code",
      "metadata": {
        "id": "2zdLhjozZdXI"
      },
      "source": [
        "# df['Fault'] = df['Error']\n",
        "# df.drop('Error', inplace=True, axis=1)\n",
        "df.rename(columns={\"Error\": \"Fault\"}, inplace=True)"
      ],
      "execution_count": 4,
      "outputs": []
    },
    {
      "cell_type": "code",
      "metadata": {
        "id": "38-i7R6KZdsc"
      },
      "source": [
        "status_data_wec = pd.read_csv('status_data_wec.csv')\n",
        "af_corr_time_wec_s = status_data_wec.loc[(status_data_wec['Main Status']==62)|(status_data_wec['Main Status']==80)|\n",
        "                                         (status_data_wec['Main Status']==228)|(status_data_wec['Main Status']==60)|\n",
        "                                         (status_data_wec['Main Status']==9),\n",
        "                                         'Time']"
      ],
      "execution_count": 5,
      "outputs": []
    },
    {
      "cell_type": "code",
      "metadata": {
        "id": "bYxJWmanZfWo"
      },
      "source": [
        "af_corr_time_wec_s = pd.to_datetime(af_corr_time_wec_s)\n",
        "af_corr_time_wes = af_corr_time_wec_s.round('10min')"
      ],
      "execution_count": 6,
      "outputs": []
    },
    {
      "cell_type": "code",
      "metadata": {
        "id": "hFzlTmGMZgaZ",
        "colab": {
          "base_uri": "https://localhost:8080/"
        },
        "outputId": "a4262dab-3f94-45dd-dace-4303c5ea1db1"
      },
      "source": [
        "df['Fault'] = [0] * len(df)\n",
        "for i, d in enumerate(df['Time']):\n",
        "    if d in af_corr_time_wes.values:\n",
        "        df['Fault'][i] = 1"
      ],
      "execution_count": 7,
      "outputs": [
        {
          "output_type": "stream",
          "text": [
            "/usr/local/lib/python3.7/dist-packages/ipykernel_launcher.py:4: SettingWithCopyWarning: \n",
            "A value is trying to be set on a copy of a slice from a DataFrame\n",
            "\n",
            "See the caveats in the documentation: https://pandas.pydata.org/pandas-docs/stable/user_guide/indexing.html#returning-a-view-versus-a-copy\n",
            "  after removing the cwd from sys.path.\n"
          ],
          "name": "stderr"
        }
      ]
    },
    {
      "cell_type": "code",
      "metadata": {
        "id": "6vYWo9JqZhc9"
      },
      "source": [
        "nf_times = []\n",
        "rul = []\n",
        "for i, d in enumerate(df['Fault']):\n",
        "    nf_times.append(df['Time'][i])\n",
        "    if d == 1:\n",
        "        for j in nf_times:\n",
        "            rul.append(df['Time'][i] - j)\n",
        "        nf_times = []    "
      ],
      "execution_count": 8,
      "outputs": []
    },
    {
      "cell_type": "code",
      "metadata": {
        "id": "yEL_DYoJZipW"
      },
      "source": [
        "rul_seconds = [x.total_seconds() for x in rul]\n",
        "rul_hours = [x//3600 for x in rul_seconds]\n",
        "rul_days = [x.days for x in rul]\n",
        "\n",
        "df_trimmed = df.head(len(rul))"
      ],
      "execution_count": 9,
      "outputs": []
    },
    {
      "cell_type": "code",
      "metadata": {
        "id": "Wkd8HVd0Zke7",
        "colab": {
          "base_uri": "https://localhost:8080/"
        },
        "outputId": "22f6289e-82e2-47e9-f9b2-33109cd4ece1"
      },
      "source": [
        "df_trimmed['RUL'] = rul_days"
      ],
      "execution_count": 10,
      "outputs": [
        {
          "output_type": "stream",
          "text": [
            "/usr/local/lib/python3.7/dist-packages/ipykernel_launcher.py:1: SettingWithCopyWarning: \n",
            "A value is trying to be set on a copy of a slice from a DataFrame.\n",
            "Try using .loc[row_indexer,col_indexer] = value instead\n",
            "\n",
            "See the caveats in the documentation: https://pandas.pydata.org/pandas-docs/stable/user_guide/indexing.html#returning-a-view-versus-a-copy\n",
            "  \"\"\"Entry point for launching an IPython kernel.\n"
          ],
          "name": "stderr"
        }
      ]
    },
    {
      "cell_type": "code",
      "metadata": {
        "id": "nc_c9G8BZpON",
        "colab": {
          "base_uri": "https://localhost:8080/"
        },
        "outputId": "1d07566d-f3da-425f-a9aa-bb1d8914767a"
      },
      "source": [
        "cols_to_drop = ['Fault',\n",
        "                'CS101 : Sys 1 inverter 1 cabinet temp.',\n",
        "                'CS101 : Sys 1 inverter 2 cabinet temp.', \n",
        "                'CS101 : Sys 1 inverter 3 cabinet temp.', \n",
        "                'CS101 : Sys 1 inverter 4 cabinet temp.', \n",
        "                'CS101 : Sys 1 inverter 5 cabinet temp.', \n",
        "                'CS101 : Sys 1 inverter 6 cabinet temp.', \n",
        "                'CS101 : Sys 1 inverter 7 cabinet temp.',\n",
        "                'CS101 : Sys 2 inverter 1 cabinet temp.', \n",
        "                'CS101 : Sys 2 inverter 2 cabinet temp.',  \n",
        "                'CS101 : Sys 2 inverter 3 cabinet temp.',\n",
        "                'CS101 : Sys 2 inverter 4 cabinet temp.']\n",
        "\n",
        "for i in cols_to_drop:\n",
        "  if i in list(df):\n",
        "    df_trimmed.drop(i, axis=1, inplace=True)                "
      ],
      "execution_count": 11,
      "outputs": [
        {
          "output_type": "stream",
          "text": [
            "/usr/local/lib/python3.7/dist-packages/pandas/core/frame.py:4174: SettingWithCopyWarning: \n",
            "A value is trying to be set on a copy of a slice from a DataFrame\n",
            "\n",
            "See the caveats in the documentation: https://pandas.pydata.org/pandas-docs/stable/user_guide/indexing.html#returning-a-view-versus-a-copy\n",
            "  errors=errors,\n"
          ],
          "name": "stderr"
        }
      ]
    },
    {
      "cell_type": "code",
      "metadata": {
        "id": "I57ecRPJZrEK"
      },
      "source": [
        "# from datetime import date, timedelta   \n",
        "\n",
        "# df_trimmed = df_trimmed.head(39293)\n",
        "# week_prior = df_trimmed['Time'].iloc[-1] - timedelta(weeks=1)\n",
        "# df_train = df_trimmed[df_trimmed['Time']<=week_prior]\n",
        "# df_test = df_trimmed[df_trimmed['Time']>week_prior]\n",
        "\n",
        "df_trimmed.set_index('Time', inplace=True)"
      ],
      "execution_count": 12,
      "outputs": []
    },
    {
      "cell_type": "code",
      "metadata": {
        "id": "ViGHszuzZtY_"
      },
      "source": [
        "timesteps = 5\n",
        "\n",
        "df_trimmed = df_trimmed.head(39298)\n",
        "df = df_trimmed.copy()\n",
        "features = df.columns.tolist()\n",
        "\n",
        "df_list = [df[features].shift(shift_val) if (shift_val == 0) \n",
        "                                else df[features].shift(-shift_val).add_suffix(f'_{shift_val}') \n",
        "                                for shift_val in range(0,timesteps)]"
      ],
      "execution_count": 13,
      "outputs": []
    },
    {
      "cell_type": "code",
      "metadata": {
        "id": "9J8H8fk6ZzrG"
      },
      "source": [
        "df_concat = pd.concat(df_list, axis=1, sort=False)\n",
        "df_concat = df_concat.iloc[:-timesteps,:]"
      ],
      "execution_count": 14,
      "outputs": []
    },
    {
      "cell_type": "code",
      "metadata": {
        "id": "uGk_5KcjZ02r"
      },
      "source": [
        "from sklearn.model_selection import train_test_split\n",
        "\n",
        "target = 'RUL'\n",
        "x_train, x_test, y_train, y_test = train_test_split(df_concat, \n",
        "                                                    df[target].iloc[:-timesteps], \n",
        "                                                    test_size = 0.02642894598,\n",
        "                                                    random_state=10, shuffle=False) "
      ],
      "execution_count": 15,
      "outputs": []
    },
    {
      "cell_type": "code",
      "metadata": {
        "colab": {
          "base_uri": "https://localhost:8080/"
        },
        "id": "JDPTpFB8Z7Ve",
        "outputId": "4467c4d4-9f8f-4260-a6fd-1e00e1f9e6fb"
      },
      "source": [
        "import xgboost as xgb\n",
        "from sklearn.metrics import mean_squared_error as MSE, mean_absolute_error as MAE\n",
        "from sklearn.model_selection import TimeSeriesSplit\n",
        "from sklearn.model_selection import RandomizedSearchCV\n",
        "\n",
        "xgbr = xgb.XGBRegressor()\n",
        "\n",
        "param_grid = {\n",
        "        'max_depth': [6, 10, 15, 20],\n",
        "        'learning_rate': [0.001, 0.01, 0.1, 0.2, 0,3],\n",
        "        'subsample': [0.5, 0.6, 0.7, 0.8, 0.9, 1.0],\n",
        "        'colsample_bytree': [0.4, 0.5, 0.6, 0.7, 0.8, 0.9, 1.0],\n",
        "        'colsample_bylevel': [0.4, 0.5, 0.6, 0.7, 0.8, 0.9, 1.0],\n",
        "        'min_child_weight': [0.5, 1.0, 3.0, 5.0, 7.0, 10.0],\n",
        "        'gamma': [0, 0.25, 0.5, 1.0],\n",
        "        'reg_lambda': [0.1, 1.0, 5.0, 10.0, 50.0, 100.0],\n",
        "        'n_estimators': [30, 40, 50, 60, 70, 90, 80, 100],\n",
        "        'objective': ['reg:squarederror']\n",
        "        }\n",
        "\n",
        "rf_xgb = RandomizedSearchCV(xgbr, \n",
        "                            param_grid,\n",
        "                            cv = 5,\n",
        "                            n_jobs=1)\n",
        "\n",
        "rf_xgb.fit(x_train, y_train)\n",
        "  \n",
        "# Predict the model\n",
        "y_pred = rf_xgb.predict(x_test)\n",
        "  \n",
        "# RMSE Computation\n",
        "rmse = np.sqrt(MSE(y_test, y_pred))\n",
        "print(\"RMSE : % f\" %(rmse))"
      ],
      "execution_count": 16,
      "outputs": [
        {
          "output_type": "stream",
          "text": [
            "RMSE :  0.018534\n"
          ],
          "name": "stdout"
        }
      ]
    },
    {
      "cell_type": "code",
      "metadata": {
        "colab": {
          "base_uri": "https://localhost:8080/",
          "height": 282
        },
        "id": "9SKV0zgwZ92B",
        "outputId": "286c22e2-d785-4903-c8ab-ef8c2433b162"
      },
      "source": [
        "df_out = pd.DataFrame()\n",
        "df_out['true'] = np.ravel(y_test.values)\n",
        "df_out['pred'] = y_pred\n",
        "\n",
        "df_out.plot()"
      ],
      "execution_count": 17,
      "outputs": [
        {
          "output_type": "execute_result",
          "data": {
            "text/plain": [
              "<matplotlib.axes._subplots.AxesSubplot at 0x7f6504e2e9d0>"
            ]
          },
          "metadata": {
            "tags": []
          },
          "execution_count": 17
        },
        {
          "output_type": "display_data",
          "data": {
            "image/png": "[encoded data removed]",
            "text/plain": [
              "<Figure size 432x288 with 1 Axes>"
            ]
          },
          "metadata": {
            "tags": [],
            "needs_background": "light"
          }
        }
      ]
    },
    {
      "cell_type": "code",
      "metadata": {
        "id": "csfNUqpSrpUc"
      },
      "source": [
        "import pickle\n",
        "\n",
        "\n",
        "pickle.dump(rf_xgb, open(\"xgb_reg.pkl\", \"wb\"))\n",
        "\n"
      ],
      "execution_count": 18,
      "outputs": []
    },
    {
      "cell_type": "code",
      "metadata": {
        "id": "77t9ao6fchlE"
      },
      "source": [
        ""
      ],
      "execution_count": 21,
      "outputs": []
    }
  ]
}